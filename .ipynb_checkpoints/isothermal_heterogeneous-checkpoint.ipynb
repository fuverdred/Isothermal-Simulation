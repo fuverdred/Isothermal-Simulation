{
 "cells": [
  {
   "cell_type": "code",
   "execution_count": 4,
   "metadata": {},
   "outputs": [],
   "source": [
    "import numpy as np\n",
    "\n",
    "import matplotlib.pyplot as plt\n",
    "import matplotlib.cm as cm\n",
    "\n",
    "from scipy.optimize import curve_fit\n",
    "from scipy.integrate import trapz, quad\n",
    "from scipy.stats import norm, lognorm, uniform\n",
    "from scipy.interpolate import interp1d"
   ]
  },
  {
   "cell_type": "markdown",
   "metadata": {},
   "source": [
    "##  Values from Knopf et al. 2020\n",
    "Particularly from Figure 1"
   ]
  },
  {
   "cell_type": "code",
   "execution_count": 2,
   "metadata": {},
   "outputs": [],
   "source": [
    "# useful functions\n",
    "\n",
    "def seconds_to_min(t):\n",
    "    '''Convert second value to minute value'''\n",
    "    return t / 60"
   ]
  },
  {
   "cell_type": "code",
   "execution_count": 5,
   "metadata": {},
   "outputs": [],
   "source": [
    "# Constants\n",
    "\n",
    "J_het = 75 # [cm^-2s^-1]\n",
    "N = 300 # Number of droplets\n",
    "mean_area = 1E-4 # [cm^2]\n",
    "frac = np.linspace(1, 0, N)"
   ]
  },
  {
   "cell_type": "code",
   "execution_count": 8,
   "metadata": {},
   "outputs": [],
   "source": [
    "# Frozen fraction for isothermal homogeneous droplets\n",
    "\n",
    "# Generate N random numbers in [0,1) which are random points on the liquid proportion curve\n",
    "x = np.random.random(N)\n",
    "# Convert them to freezing times my mapping them onto the liquid proportion curve\n",
    "homo_freeze_times = -np.log(x)/(mean_area * J_het)\n",
    "# Sort them into time order\n",
    "homo_freeze_times.sort()"
   ]
  },
  {
   "cell_type": "code",
   "execution_count": 11,
   "metadata": {},
   "outputs": [
    {
     "data": {
      "image/png": "[encoded data removed]",
      "text/plain": [
       "<Figure size 432x288 with 1 Axes>"
      ]
     },
     "metadata": {
      "needs_background": "light"
     },
     "output_type": "display_data"
    }
   ],
   "source": [
    "# Plot the simulated droplets and the liquid proportion curve they are based on\n",
    "\n",
    "analytic_times = np.linspace(0, 14*60, 1000) # [s] 14 minutes\n",
    "plt.plot(seconds_to_min(analytic_times),\n",
    "        np.exp(-J_het * mean_area * analytic_times),\n",
    "        'b--')\n",
    "\n",
    "plt.scatter(seconds_to_min(homo_freeze_times),\n",
    "           frac,\n",
    "           color='b')\n",
    "plt.yscale('log')\n",
    "\n",
    "plt.ylabel('log(liquid proportion)')\n",
    "plt.xlabel('Time (mins)')\n",
    "plt.show()"
   ]
  },
  {
   "cell_type": "code",
   "execution_count": 16,
   "metadata": {},
   "outputs": [
    {
     "data": {
      "image/png": "[encoded data removed]",
      "text/plain": [
       "<Figure size 432x288 with 1 Axes>"
      ]
     },
     "metadata": {
      "needs_background": "light"
     },
     "output_type": "display_data"
    },
    {
     "name": "stdout",
     "output_type": "stream",
     "text": [
      "Total area 1.52cm squared\n"
     ]
    }
   ],
   "source": [
    "# Now assume a uniform distribution of areas in the range 2 orders of magnitude around the mean area above\n",
    "lower, upper = 1E-6, 1E-2\n",
    "# Generate the random areas\n",
    "uniform_areas = (upper - lower) * np.random.random(N) + lower\n",
    "# Histogram the areas to show they are correct\n",
    "plt.hist(uniform_areas, 20)\n",
    "plt.ylabel('count')\n",
    "plt.xlabel('Area in droplet (cm$^2$)')\n",
    "\n",
    "plt.show()\n",
    "print(f'Total area {sum(uniform_areas):.2f}cm squared')"
   ]
  },
  {
   "cell_type": "code",
   "execution_count": null,
   "metadata": {},
   "outputs": [],
   "source": [
    "# Simulate N droplets with the areas above in them. \n",
    "# Again generate N random numbers in [0,1) to be random points on the liquid proportion curve\n",
    "x = np.random.random(N)\n",
    "# And now convert them to freezing times, but from the liquid proportion curve for the specific area\n",
    "uniform_freeze_times = -np.exp(x)/(uniform_areas * J_het)\n",
    "# Put the freezing time together with the area in the droplet\n",
    "uniform_data = np.c_[uniform_areas, uniform_freeze_times]\n",
    "# Now sort them by time, maintaining the same area with them\n",
    "uniform_data = uniform_data[uniform_data[:,1].argsort()]\n",
    "\n",
    "plt.scatter(uniform_data[:,1], uniform_data[:,0])\n",
    "plt.show()"
   ]
  }
 ],
 "metadata": {
  "kernelspec": {
   "display_name": "Python 3",
   "language": "python",
   "name": "python3"
  },
  "language_info": {
   "codemirror_mode": {
    "name": "ipython",
    "version": 3
   },
   "file_extension": ".py",
   "mimetype": "text/x-python",
   "name": "python",
   "nbconvert_exporter": "python",
   "pygments_lexer": "ipython3",
   "version": "3.7.2"
  }
 },
 "nbformat": 4,
 "nbformat_minor": 4
}
